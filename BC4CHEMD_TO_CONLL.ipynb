{
  "nbformat": 4,
  "nbformat_minor": 0,
  "metadata": {
    "colab": {
      "name": "BC4CHEMD_TO_CONLL.ipynb",
      "provenance": [],
      "collapsed_sections": [],
      "authorship_tag": "ABX9TyPRHlRTeb89DvldR9lav8uh",
      "include_colab_link": true
    },
    "kernelspec": {
      "name": "python3",
      "display_name": "Python 3"
    },
    "language_info": {
      "name": "python"
    }
  },
  "cells": [
    {
      "cell_type": "markdown",
      "metadata": {
        "id": "view-in-github",
        "colab_type": "text"
      },
      "source": [
        "<a href=\"https://colab.research.google.com/github/gokhanturer/NER_Model_SparkNLP/blob/main/BC4CHEMD_TO_CONLL.ipynb\" target=\"_parent\"><img src=\"https://colab.research.google.com/assets/colab-badge.svg\" alt=\"Open In Colab\"/></a>"
      ]
    },
    {
      "cell_type": "code",
      "execution_count": 1,
      "metadata": {
        "id": "yawWZMmxfVku"
      },
      "outputs": [],
      "source": [
        "import pandas as pd\n",
        "import numpy as np\n",
        "pd.set_option(\"max_rows\",100)"
      ]
    },
    {
      "cell_type": "code",
      "source": [
        "!wget -q https://raw.githubusercontent.com/cambridgeltl/MTL-Bioinformatics-2016/master/data/BC4CHEMD/train.tsv\n",
        "\n",
        "!wget -q https://raw.githubusercontent.com/cambridgeltl/MTL-Bioinformatics-2016/master/data/BC4CHEMD/test.tsv"
      ],
      "metadata": {
        "id": "m6cDMBdUhmBK"
      },
      "execution_count": 2,
      "outputs": []
    },
    {
      "cell_type": "code",
      "source": [
        "with open(\"train.tsv\") as f:\n",
        "  train_data = f.read()"
      ],
      "metadata": {
        "id": "mjA-Udfck54I"
      },
      "execution_count": 6,
      "outputs": []
    },
    {
      "cell_type": "code",
      "source": [
        "with open(\"test.tsv\") as f:\n",
        "  test_data = f.read()"
      ],
      "metadata": {
        "id": "ICD0EzPkk6Ze"
      },
      "execution_count": 7,
      "outputs": []
    },
    {
      "cell_type": "code",
      "source": [
        "def data_pre_process(data):\n",
        "\n",
        "  result = []\n",
        "\n",
        "  for i in data.split(\"\\n\"):\n",
        "    if i == \"\": # Each sentence ends \"\"\n",
        "      result.append(\"None\\tNone\") # We add \"None\" between each sentences\n",
        "    else:\n",
        "      result.append(i)\n",
        "  \n",
        "  df = pd.DataFrame(result)\n",
        "\n",
        "  return df"
      ],
      "metadata": {
        "id": "ATnIZ0hZhl5G"
      },
      "execution_count": 3,
      "outputs": []
    },
    {
      "cell_type": "code",
      "source": [
        "def conll_generator(data, filename):\n",
        "\n",
        "  data = data_pre_process(data)\n",
        "\n",
        "  data.to_csv(filename) # We saved the return value of the data_prepare_function as csv file\n",
        "\n",
        "  df = pd.read_csv(filename, sep = \"\\t\", usecols = [0,1],names = ['token','entity'])\n",
        "\n",
        "  # We read csv file , add column name and assigned a NaN value to first row \n",
        "  df.iloc[0,:] = np.nan\n",
        "  \n",
        "  # After reading the data, we cleaned the unnecessary characters in the columns.\n",
        "  df[\"token\"] = df[\"token\"].map(lambda x: x.split(\",\")[1], na_action = \"ignore\")\n",
        "  df[\"token\"] = df[\"token\"].map(lambda x: ',' if x == '\"' else x, na_action = \"ignore\")\n",
        "  df[\"entity\"] = df[\"entity\"].map(lambda x: x.strip('\"'), na_action = \"ignore\")\n",
        "\n",
        "  # We assigned the value np.nan to the places that are None\n",
        "  df[\"token\"]= df[\"token\"].map(lambda x: np.nan if x == 'None' else x)\n",
        "  df[\"entity\"] = df[\"entity\"].map(lambda x: np.nan if x == 'None' else x)\n",
        "\n",
        "  # We added two new columns with value \"NN\" excluding NaN values\n",
        "  df[\"pos1\"] = df[\"token\"].map(lambda x: np.nan if type(x)== float else 'NN')\n",
        "  df[\"pos2\"] = df[\"token\"].map(lambda x: np.nan if type(x)== float else 'NN')\n",
        "\n",
        "  df = df[[\"token\",\"pos1\",\"pos2\",\"entity\"]]\n",
        "\n",
        "  # We changed the column names according to the conll format\n",
        "  df.columns = [\"-DOCSTART-\", \"-X-\", \"-X-\", \"O\"]\n",
        "\n",
        "  return df"
      ],
      "metadata": {
        "id": "Z7XwkNdvhlzl"
      },
      "execution_count": 4,
      "outputs": []
    },
    {
      "cell_type": "code",
      "source": [
        "data = train_data\n",
        "\n",
        "filename = \"train_data.csv\"\n",
        "\n",
        "train_data = conll_generator(data, filename)"
      ],
      "metadata": {
        "id": "MmDdHckmhlu3"
      },
      "execution_count": 8,
      "outputs": []
    },
    {
      "cell_type": "code",
      "source": [
        "train_data.head(10)"
      ],
      "metadata": {
        "colab": {
          "base_uri": "https://localhost:8080/",
          "height": 359
        },
        "id": "G7z0dnbTlFmk",
        "outputId": "ac7a5db9-d01e-4654-91d7-dced8bccb039"
      },
      "execution_count": 9,
      "outputs": [
        {
          "output_type": "execute_result",
          "data": {
            "text/html": [
              "\n",
              "  <div id=\"df-a4e43140-f15b-42a3-8808-c6701af45af9\">\n",
              "    <div class=\"colab-df-container\">\n",
              "      <div>\n",
              "<style scoped>\n",
              "    .dataframe tbody tr th:only-of-type {\n",
              "        vertical-align: middle;\n",
              "    }\n",
              "\n",
              "    .dataframe tbody tr th {\n",
              "        vertical-align: top;\n",
              "    }\n",
              "\n",
              "    .dataframe thead th {\n",
              "        text-align: right;\n",
              "    }\n",
              "</style>\n",
              "<table border=\"1\" class=\"dataframe\">\n",
              "  <thead>\n",
              "    <tr style=\"text-align: right;\">\n",
              "      <th></th>\n",
              "      <th>-DOCSTART-</th>\n",
              "      <th>-X-</th>\n",
              "      <th>-X-</th>\n",
              "      <th>O</th>\n",
              "    </tr>\n",
              "  </thead>\n",
              "  <tbody>\n",
              "    <tr>\n",
              "      <th>0</th>\n",
              "      <td>NaN</td>\n",
              "      <td>NaN</td>\n",
              "      <td>NaN</td>\n",
              "      <td>NaN</td>\n",
              "    </tr>\n",
              "    <tr>\n",
              "      <th>1</th>\n",
              "      <td>DPP6</td>\n",
              "      <td>NN</td>\n",
              "      <td>NN</td>\n",
              "      <td>O</td>\n",
              "    </tr>\n",
              "    <tr>\n",
              "      <th>2</th>\n",
              "      <td>as</td>\n",
              "      <td>NN</td>\n",
              "      <td>NN</td>\n",
              "      <td>O</td>\n",
              "    </tr>\n",
              "    <tr>\n",
              "      <th>3</th>\n",
              "      <td>a</td>\n",
              "      <td>NN</td>\n",
              "      <td>NN</td>\n",
              "      <td>O</td>\n",
              "    </tr>\n",
              "    <tr>\n",
              "      <th>4</th>\n",
              "      <td>candidate</td>\n",
              "      <td>NN</td>\n",
              "      <td>NN</td>\n",
              "      <td>O</td>\n",
              "    </tr>\n",
              "    <tr>\n",
              "      <th>5</th>\n",
              "      <td>gene</td>\n",
              "      <td>NN</td>\n",
              "      <td>NN</td>\n",
              "      <td>O</td>\n",
              "    </tr>\n",
              "    <tr>\n",
              "      <th>6</th>\n",
              "      <td>for</td>\n",
              "      <td>NN</td>\n",
              "      <td>NN</td>\n",
              "      <td>O</td>\n",
              "    </tr>\n",
              "    <tr>\n",
              "      <th>7</th>\n",
              "      <td>neuroleptic</td>\n",
              "      <td>NN</td>\n",
              "      <td>NN</td>\n",
              "      <td>O</td>\n",
              "    </tr>\n",
              "    <tr>\n",
              "      <th>8</th>\n",
              "      <td>-</td>\n",
              "      <td>NN</td>\n",
              "      <td>NN</td>\n",
              "      <td>O</td>\n",
              "    </tr>\n",
              "    <tr>\n",
              "      <th>9</th>\n",
              "      <td>induced</td>\n",
              "      <td>NN</td>\n",
              "      <td>NN</td>\n",
              "      <td>O</td>\n",
              "    </tr>\n",
              "  </tbody>\n",
              "</table>\n",
              "</div>\n",
              "      <button class=\"colab-df-convert\" onclick=\"convertToInteractive('df-a4e43140-f15b-42a3-8808-c6701af45af9')\"\n",
              "              title=\"Convert this dataframe to an interactive table.\"\n",
              "              style=\"display:none;\">\n",
              "        \n",
              "  <svg xmlns=\"http://www.w3.org/2000/svg\" height=\"24px\"viewBox=\"0 0 24 24\"\n",
              "       width=\"24px\">\n",
              "    <path d=\"M0 0h24v24H0V0z\" fill=\"none\"/>\n",
              "    <path d=\"M18.56 5.44l.94 2.06.94-2.06 2.06-.94-2.06-.94-.94-2.06-.94 2.06-2.06.94zm-11 1L8.5 8.5l.94-2.06 2.06-.94-2.06-.94L8.5 2.5l-.94 2.06-2.06.94zm10 10l.94 2.06.94-2.06 2.06-.94-2.06-.94-.94-2.06-.94 2.06-2.06.94z\"/><path d=\"M17.41 7.96l-1.37-1.37c-.4-.4-.92-.59-1.43-.59-.52 0-1.04.2-1.43.59L10.3 9.45l-7.72 7.72c-.78.78-.78 2.05 0 2.83L4 21.41c.39.39.9.59 1.41.59.51 0 1.02-.2 1.41-.59l7.78-7.78 2.81-2.81c.8-.78.8-2.07 0-2.86zM5.41 20L4 18.59l7.72-7.72 1.47 1.35L5.41 20z\"/>\n",
              "  </svg>\n",
              "      </button>\n",
              "      \n",
              "  <style>\n",
              "    .colab-df-container {\n",
              "      display:flex;\n",
              "      flex-wrap:wrap;\n",
              "      gap: 12px;\n",
              "    }\n",
              "\n",
              "    .colab-df-convert {\n",
              "      background-color: #E8F0FE;\n",
              "      border: none;\n",
              "      border-radius: 50%;\n",
              "      cursor: pointer;\n",
              "      display: none;\n",
              "      fill: #1967D2;\n",
              "      height: 32px;\n",
              "      padding: 0 0 0 0;\n",
              "      width: 32px;\n",
              "    }\n",
              "\n",
              "    .colab-df-convert:hover {\n",
              "      background-color: #E2EBFA;\n",
              "      box-shadow: 0px 1px 2px rgba(60, 64, 67, 0.3), 0px 1px 3px 1px rgba(60, 64, 67, 0.15);\n",
              "      fill: #174EA6;\n",
              "    }\n",
              "\n",
              "    [theme=dark] .colab-df-convert {\n",
              "      background-color: #3B4455;\n",
              "      fill: #D2E3FC;\n",
              "    }\n",
              "\n",
              "    [theme=dark] .colab-df-convert:hover {\n",
              "      background-color: #434B5C;\n",
              "      box-shadow: 0px 1px 3px 1px rgba(0, 0, 0, 0.15);\n",
              "      filter: drop-shadow(0px 1px 2px rgba(0, 0, 0, 0.3));\n",
              "      fill: #FFFFFF;\n",
              "    }\n",
              "  </style>\n",
              "\n",
              "      <script>\n",
              "        const buttonEl =\n",
              "          document.querySelector('#df-a4e43140-f15b-42a3-8808-c6701af45af9 button.colab-df-convert');\n",
              "        buttonEl.style.display =\n",
              "          google.colab.kernel.accessAllowed ? 'block' : 'none';\n",
              "\n",
              "        async function convertToInteractive(key) {\n",
              "          const element = document.querySelector('#df-a4e43140-f15b-42a3-8808-c6701af45af9');\n",
              "          const dataTable =\n",
              "            await google.colab.kernel.invokeFunction('convertToInteractive',\n",
              "                                                     [key], {});\n",
              "          if (!dataTable) return;\n",
              "\n",
              "          const docLinkHtml = 'Like what you see? Visit the ' +\n",
              "            '<a target=\"_blank\" href=https://colab.research.google.com/notebooks/data_table.ipynb>data table notebook</a>'\n",
              "            + ' to learn more about interactive tables.';\n",
              "          element.innerHTML = '';\n",
              "          dataTable['output_type'] = 'display_data';\n",
              "          await google.colab.output.renderOutput(dataTable, element);\n",
              "          const docLink = document.createElement('div');\n",
              "          docLink.innerHTML = docLinkHtml;\n",
              "          element.appendChild(docLink);\n",
              "        }\n",
              "      </script>\n",
              "    </div>\n",
              "  </div>\n",
              "  "
            ],
            "text/plain": [
              "    -DOCSTART-  -X-  -X-    O\n",
              "0          NaN  NaN  NaN  NaN\n",
              "1         DPP6   NN   NN    O\n",
              "2           as   NN   NN    O\n",
              "3            a   NN   NN    O\n",
              "4    candidate   NN   NN    O\n",
              "5         gene   NN   NN    O\n",
              "6          for   NN   NN    O\n",
              "7  neuroleptic   NN   NN    O\n",
              "8            -   NN   NN    O\n",
              "9      induced   NN   NN    O"
            ]
          },
          "metadata": {},
          "execution_count": 9
        }
      ]
    },
    {
      "cell_type": "code",
      "source": [
        "train_data.to_csv(\"/content/BC4CHEMD_train.conll\", index = False, sep = \" \")"
      ],
      "metadata": {
        "id": "_x0xFMYYlFjB"
      },
      "execution_count": 12,
      "outputs": []
    },
    {
      "cell_type": "code",
      "source": [
        "data = test_data\n",
        "\n",
        "filename = \"test_data.csv\"\n",
        "\n",
        "test_data = conll_generator(data, filename)"
      ],
      "metadata": {
        "id": "_2E5QnsIlFgG"
      },
      "execution_count": 11,
      "outputs": []
    },
    {
      "cell_type": "code",
      "source": [
        "test_data.to_csv(\"/content/BC4CHEMD_test.conll\", index = False, sep = \" \")"
      ],
      "metadata": {
        "id": "DGA3XuathlmZ"
      },
      "execution_count": 13,
      "outputs": []
    }
  ]
}
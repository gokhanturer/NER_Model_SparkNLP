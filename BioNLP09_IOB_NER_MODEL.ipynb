{
  "nbformat": 4,
  "nbformat_minor": 0,
  "metadata": {
    "colab": {
      "name": "BioNLP09_IOB_NER_MODEL.ipynb",
      "provenance": [],
      "authorship_tag": "ABX9TyMY4sNYkEg0Wy5+vpmXZ3Rc",
      "include_colab_link": true
    },
    "kernelspec": {
      "name": "python3",
      "display_name": "Python 3"
    },
    "language_info": {
      "name": "python"
    }
  },
  "cells": [
    {
      "cell_type": "markdown",
      "metadata": {
        "id": "view-in-github",
        "colab_type": "text"
      },
      "source": [
        "<a href=\"https://colab.research.google.com/github/gokhanturer/NER_Model_SparkNLP/blob/main/BioNLP09_IOB_NER_MODEL.ipynb\" target=\"_parent\"><img src=\"https://colab.research.google.com/assets/colab-badge.svg\" alt=\"Open In Colab\"/></a>"
      ]
    },
    {
      "cell_type": "code",
      "execution_count": 1,
      "metadata": {
        "colab": {
          "base_uri": "https://localhost:8080/"
        },
        "id": "N7Zg9wfiC9zJ",
        "outputId": "391d9b22-18e0-48a3-8301-feb6cea47601"
      },
      "outputs": [
        {
          "output_type": "stream",
          "name": "stdout",
          "text": [
            "\u001b[K     |████████████████████████████████| 212.4 MB 66 kB/s \n",
            "\u001b[K     |████████████████████████████████| 140 kB 66.1 MB/s \n",
            "\u001b[K     |████████████████████████████████| 198 kB 19.0 MB/s \n",
            "\u001b[?25h  Building wheel for pyspark (setup.py) ... \u001b[?25l\u001b[?25hdone\n",
            "\u001b[K     |████████████████████████████████| 95 kB 4.2 MB/s \n",
            "\u001b[K     |████████████████████████████████| 66 kB 5.0 MB/s \n",
            "\u001b[?25h"
          ]
        }
      ],
      "source": [
        "! pip install -q pyspark==3.1.2 spark-nlp\n",
        "\n",
        "! pip install -q spark-nlp-display"
      ]
    },
    {
      "cell_type": "code",
      "source": [
        "import sparknlp\n",
        "\n",
        "spark = sparknlp.start(gpu = True) \n",
        "\n",
        "from sparknlp.base import *\n",
        "from sparknlp.annotator import *\n",
        "import pyspark.sql.functions as F\n",
        "from sparknlp.training import CoNLL\n",
        "\n",
        "print(\"Spark NLP version\", sparknlp.version())\n",
        "\n",
        "print(\"Apache Spark version:\", spark.version)\n",
        "\n",
        "spark"
      ],
      "metadata": {
        "colab": {
          "base_uri": "https://localhost:8080/",
          "height": 250
        },
        "id": "TRm4XT7bDYgb",
        "outputId": "0d6935c5-968e-4c04-fdd1-c9c7a1a3f95c"
      },
      "execution_count": 2,
      "outputs": [
        {
          "output_type": "stream",
          "name": "stdout",
          "text": [
            "Spark NLP version 3.4.1\n",
            "Apache Spark version: 3.1.2\n"
          ]
        },
        {
          "output_type": "execute_result",
          "data": {
            "text/html": [
              "\n",
              "            <div>\n",
              "                <p><b>SparkSession - in-memory</b></p>\n",
              "                \n",
              "        <div>\n",
              "            <p><b>SparkContext</b></p>\n",
              "\n",
              "            <p><a href=\"http://13055a57d9e0:4040\">Spark UI</a></p>\n",
              "\n",
              "            <dl>\n",
              "              <dt>Version</dt>\n",
              "                <dd><code>v3.1.2</code></dd>\n",
              "              <dt>Master</dt>\n",
              "                <dd><code>local[*]</code></dd>\n",
              "              <dt>AppName</dt>\n",
              "                <dd><code>Spark NLP</code></dd>\n",
              "            </dl>\n",
              "        </div>\n",
              "        \n",
              "            </div>\n",
              "        "
            ],
            "text/plain": [
              "<pyspark.sql.session.SparkSession at 0x7f01dc99f6d0>"
            ]
          },
          "metadata": {},
          "execution_count": 2
        }
      ]
    },
    {
      "cell_type": "code",
      "source": [
        "!wget -q https://raw.githubusercontent.com/gokhanturer/NER_Model_SparkNLP/main/BioNLP09_IOB_train.conll\n",
        "!wget -q https://raw.githubusercontent.com/gokhanturer/NER_Model_SparkNLP/main/BioNLP09_IOB_test.conll"
      ],
      "metadata": {
        "id": "OAyBRfVfDYdf"
      },
      "execution_count": 3,
      "outputs": []
    },
    {
      "cell_type": "code",
      "source": [
        "with open (\"BioNLP09_IOB_train.conll\") as f:\n",
        "  train_data = f.read()"
      ],
      "metadata": {
        "id": "VjWmwEWPDYaJ"
      },
      "execution_count": null,
      "outputs": []
    },
    {
      "cell_type": "code",
      "source": [
        "train_data = CoNLL().readDataset(spark, 'BioNLP09_IOB_train.conll')\n",
        "\n",
        "train_data.show(5)"
      ],
      "metadata": {
        "colab": {
          "base_uri": "https://localhost:8080/"
        },
        "id": "3WbVcajQDYW7",
        "outputId": "bdae130b-88d9-4d6c-faf0-8ba6307a659d"
      },
      "execution_count": 23,
      "outputs": [
        {
          "output_type": "stream",
          "name": "stdout",
          "text": [
            "+--------------------+--------------------+--------------------+--------------------+--------------------+--------------------+\n",
            "|                text|            document|            sentence|               token|                 pos|               label|\n",
            "+--------------------+--------------------+--------------------+--------------------+--------------------+--------------------+\n",
            "|Reactive oxygen i...|[{document, 0, 13...|[{document, 0, 13...|[{token, 0, 7, Re...|[{pos, 0, 7, NN, ...|[{named_entity, 0...|\n",
            "|We previously rep...|[{document, 0, 15...|[{document, 0, 15...|[{token, 0, 1, We...|[{pos, 0, 1, NN, ...|[{named_entity, 0...|\n",
            "|However , the sou...|[{document, 0, 14...|[{document, 0, 14...|[{token, 0, 6, Ho...|[{pos, 0, 6, NN, ...|[{named_entity, 0...|\n",
            "|5 - LOX and 5 - L...|[{document, 0, 12...|[{document, 0, 12...|[{token, 0, 0, 5,...|[{pos, 0, 0, NN, ...|[{named_entity, 0...|\n",
            "|Stimulation of ly...|[{document, 0, 29...|[{document, 0, 29...|[{token, 0, 10, S...|[{pos, 0, 10, NN,...|[{named_entity, 0...|\n",
            "+--------------------+--------------------+--------------------+--------------------+--------------------+--------------------+\n",
            "only showing top 5 rows\n",
            "\n"
          ]
        }
      ]
    },
    {
      "cell_type": "code",
      "source": [
        "train_data.select(F.explode(F.arrays_zip('token.result', 'pos.result',  'label.result')).alias(\"cols\")) \\\n",
        ".select(F.expr(\"cols['0']\").alias(\"token\"),\n",
        "        F.expr(\"cols['1']\").alias(\"pos\"),\n",
        "        F.expr(\"cols['2']\").alias(\"ner_label\")).show(truncate=50)"
      ],
      "metadata": {
        "colab": {
          "base_uri": "https://localhost:8080/"
        },
        "id": "epOvKrHyDYTZ",
        "outputId": "426b99f2-94a4-4358-bd9a-1238e38b8a85"
      },
      "execution_count": 24,
      "outputs": [
        {
          "output_type": "stream",
          "name": "stdout",
          "text": [
            "+------------+---+---------+\n",
            "|       token|pos|ner_label|\n",
            "+------------+---+---------+\n",
            "|    Reactive| NN|        O|\n",
            "|      oxygen| NN|        O|\n",
            "|intermediate| NN|        O|\n",
            "|           -| NN|        O|\n",
            "|   dependent| NN|        O|\n",
            "|          NF| NN|        O|\n",
            "|           -| NN|        O|\n",
            "|      kappaB| NN|        O|\n",
            "|  activation| NN|        O|\n",
            "|          by| NN|        O|\n",
            "| interleukin| NN|B-Protein|\n",
            "|           -| NN|I-Protein|\n",
            "|       1beta| NN|I-Protein|\n",
            "|    requires| NN|        O|\n",
            "|           5| NN|B-Protein|\n",
            "|           -| NN|I-Protein|\n",
            "|lipoxygenase| NN|I-Protein|\n",
            "|          or| NN|        O|\n",
            "|       NADPH| NN|        O|\n",
            "|     oxidase| NN|        O|\n",
            "+------------+---+---------+\n",
            "only showing top 20 rows\n",
            "\n"
          ]
        }
      ]
    },
    {
      "cell_type": "code",
      "source": [
        "train_data.select(F.explode(F.arrays_zip(\"token.result\",\"label.result\")).alias(\"cols\")) \\\n",
        ".select(F.expr(\"cols['0']\").alias(\"token\"),\n",
        "        F.expr(\"cols['1']\").alias(\"ground_truth\")).groupBy(\"ground_truth\").count().orderBy(\"count\", ascending=False).show(100,truncate=False)"
      ],
      "metadata": {
        "id": "HDenBhMQD9CC"
      },
      "execution_count": null,
      "outputs": []
    },
    {
      "cell_type": "code",
      "source": [
        "#conll_data.select(F.countDistinct(\"label.result\")).show()\n",
        "#conll_data.groupBy(\"label.result\").count().show(truncate=False)\n",
        "\n",
        "train_data = train_data.withColumn('unique', F.array_distinct(\"label.result\"))\\\n",
        "                       .withColumn('c', F.size('unique'))\\\n",
        "                       .filter(F.col('c')>1)\n",
        "\n",
        "#train_data.select(F.explode(F.arrays_zip('token.result','label.result')).alias(\"cols\")) \\\n",
        "          #.select(F.expr(\"cols['0']\").alias(\"token\"),\n",
        "                  #F.expr(\"cols['1']\").alias(\"ground_truth\"))\\\n",
        "          #.groupBy('ground_truth')\\\n",
        "          #.count()\\\n",
        "          #.orderBy('count', ascending=False)\\\n",
        "          #.show(100,truncate=False)"
      ],
      "metadata": {
        "id": "a3S6hvtwD8-P"
      },
      "execution_count": 5,
      "outputs": []
    },
    {
      "cell_type": "code",
      "source": [
        "with open (\"BioNLP09_IOB_test.conll\") as f:\n",
        "  test_data = f.read()\n",
        "#print (test_data[:500])"
      ],
      "metadata": {
        "id": "ZqIX8nN1D86f"
      },
      "execution_count": null,
      "outputs": []
    },
    {
      "cell_type": "code",
      "source": [
        "test_data = CoNLL().readDataset(spark, 'BioNLP09_IOB_test.conll')\n",
        "#test_data.show(5)"
      ],
      "metadata": {
        "id": "PQclKwQzD82W"
      },
      "execution_count": 6,
      "outputs": []
    },
    {
      "cell_type": "code",
      "source": [
        "test_data.select(F.explode(F.arrays_zip(\"token.result\",\"label.result\")).alias(\"cols\")) \\\n",
        ".select(F.expr(\"cols['0']\").alias(\"token\"),\n",
        "        F.expr(\"cols['1']\").alias(\"ground_truth\")).groupBy(\"ground_truth\").count().orderBy(\"count\", ascending=False).show(100,truncate=False)"
      ],
      "metadata": {
        "id": "8ZTjSdazD8yP"
      },
      "execution_count": null,
      "outputs": []
    },
    {
      "cell_type": "code",
      "source": [
        "glove_embeddings = WordEmbeddingsModel.pretrained()\\\n",
        "    .setInputCols([\"sentence\", \"token\"])\\\n",
        "    .setOutputCol(\"embeddings\")"
      ],
      "metadata": {
        "colab": {
          "base_uri": "https://localhost:8080/"
        },
        "id": "1mheASWJD8vk",
        "outputId": "5c880409-e270-4208-c401-45d8e98bbf1a"
      },
      "execution_count": 7,
      "outputs": [
        {
          "output_type": "stream",
          "name": "stdout",
          "text": [
            "glove_100d download started this may take some time.\n",
            "Approximate size to download 145.3 MB\n",
            "[OK!]\n"
          ]
        }
      ]
    },
    {
      "cell_type": "code",
      "source": [
        "glove_embeddings.transform(test_data).write.parquet('/content/drive/MyDrive/Parquet/testdata_bionlp09.parquet')"
      ],
      "metadata": {
        "id": "pufNe-BAD8pm"
      },
      "execution_count": 8,
      "outputs": []
    },
    {
      "cell_type": "code",
      "source": [
        "nerTagger = NerDLApproach()\\\n",
        "    .setInputCols([\"sentence\", \"token\", \"embeddings\"])\\\n",
        "    .setLabelColumn(\"label\")\\\n",
        "    .setOutputCol(\"ner\")\\\n",
        "    .setMaxEpochs(8)\\\n",
        "    .setLr(0.003)\\\n",
        "    .setDropout(0.5)\\\n",
        "    .setBatchSize(10)\\\n",
        "    .setRandomSeed(0)\\\n",
        "    .setVerbose(1)\\\n",
        "    .setEvaluationLogExtended(True) \\\n",
        "    .setEnableOutputLogs(True)\\\n",
        "    .setIncludeConfidence(True)\\\n",
        "    .setTestDataset('/content/drive/MyDrive/Parquet/testdata_bionlp09.parquet')\\\n",
        "    .setEnableMemoryOptimizer(True)\n",
        "\n",
        "ner_pipeline = Pipeline(stages=[\n",
        "      glove_embeddings,\n",
        "      nerTagger\n",
        "])"
      ],
      "metadata": {
        "id": "eiKWbnC6EPPC"
      },
      "execution_count": 9,
      "outputs": []
    },
    {
      "cell_type": "code",
      "source": [
        "%%time\n",
        "\n",
        "ner_model = ner_pipeline.fit(train_data)"
      ],
      "metadata": {
        "colab": {
          "base_uri": "https://localhost:8080/"
        },
        "id": "Nsiy6cSdEPL8",
        "outputId": "ecac26e6-09c2-4dbc-cda4-2ca7334f2e31"
      },
      "execution_count": 10,
      "outputs": [
        {
          "output_type": "stream",
          "name": "stdout",
          "text": [
            "CPU times: user 11.7 s, sys: 1.27 s, total: 13 s\n",
            "Wall time: 37min 24s\n"
          ]
        }
      ]
    },
    {
      "cell_type": "code",
      "source": [
        "!cd ~/annotator_logs/ && ls -lt"
      ],
      "metadata": {
        "colab": {
          "base_uri": "https://localhost:8080/"
        },
        "id": "0MzZLCilEPI6",
        "outputId": "6d772199-52ae-4b59-e769-e53f5f6fcff7"
      },
      "execution_count": 11,
      "outputs": [
        {
          "output_type": "stream",
          "name": "stdout",
          "text": [
            "total 4\n",
            "-rw-r--r-- 1 root root 4076 Feb 16 20:24 NerDLApproach_b1fcf69f949a.log\n"
          ]
        }
      ]
    },
    {
      "cell_type": "code",
      "source": [
        "!cat ~/annotator_logs/NerDLApproach_b1fcf69f949a.log"
      ],
      "metadata": {
        "colab": {
          "base_uri": "https://localhost:8080/"
        },
        "id": "YDYvDlQBEvjd",
        "outputId": "ccc33823-471f-471f-e017-6d2ff1d24e4a"
      },
      "execution_count": 12,
      "outputs": [
        {
          "output_type": "stream",
          "name": "stdout",
          "text": [
            "Name of the selected graph: ner-dl/blstm_10_100_128_120.pb\n",
            "Training started - total epochs: 8 - lr: 0.003 - batch size: 10 - labels: 3 - chars: 80 - training examples: 4711\n",
            "\n",
            "\n",
            "Epoch 1/8 started, lr: 0.003, dataset size: 4711\n",
            "\n",
            "\n",
            "Epoch 1/8 - 267.50s - loss: 2438.2388 - batches: 472\n",
            "Quality on test dataset: \n",
            "time to finish evaluation: 32.01s\n",
            "label\t tp\t fp\t fn\t prec\t rec\t f1\n",
            "I-Protein\t 2944\t 410\t 1134\t 0.8777579\t 0.7219225\t 0.79224974\n",
            "B-Protein\t 2642\t 457\t 947\t 0.8525331\t 0.7361382\t 0.7900718\n",
            "tp: 5586 fp: 867 fn: 2081 labels: 2\n",
            "Macro-average\t prec: 0.8651455, rec: 0.7290304, f1: 0.791277\n",
            "Micro-average\t prec: 0.86564386, rec: 0.728577, f1: 0.79121816\n",
            "\n",
            "\n",
            "Epoch 2/8 started, lr: 0.0029850747, dataset size: 4711\n",
            "\n",
            "\n",
            "Epoch 2/8 - 237.14s - loss: 1023.5493 - batches: 472\n",
            "Quality on test dataset: \n",
            "time to finish evaluation: 32.12s\n",
            "label\t tp\t fp\t fn\t prec\t rec\t f1\n",
            "I-Protein\t 3382\t 816\t 696\t 0.80562174\t 0.8293281\t 0.81730306\n",
            "B-Protein\t 2885\t 494\t 704\t 0.8538029\t 0.8038451\t 0.8280712\n",
            "tp: 6267 fp: 1310 fn: 1400 labels: 2\n",
            "Macro-average\t prec: 0.82971233, rec: 0.8165866, f1: 0.82309717\n",
            "Micro-average\t prec: 0.8271084, rec: 0.81739926, f1: 0.82222515\n",
            "\n",
            "\n",
            "Epoch 3/8 started, lr: 0.0029702971, dataset size: 4711\n",
            "\n",
            "\n",
            "Epoch 3/8 - 233.52s - loss: 729.662 - batches: 472\n",
            "Quality on test dataset: \n",
            "time to finish evaluation: 31.64s\n",
            "label\t tp\t fp\t fn\t prec\t rec\t f1\n",
            "I-Protein\t 3636\t 1090\t 442\t 0.76936096\t 0.89161354\t 0.8259882\n",
            "B-Protein\t 3079\t 617\t 510\t 0.83306277\t 0.8578991\t 0.8452986\n",
            "tp: 6715 fp: 1707 fn: 952 labels: 2\n",
            "Macro-average\t prec: 0.80121183, rec: 0.87475634, f1: 0.83637047\n",
            "Micro-average\t prec: 0.79731655, rec: 0.8758315, f1: 0.8347318\n",
            "\n",
            "\n",
            "Epoch 4/8 started, lr: 0.002955665, dataset size: 4711\n",
            "\n",
            "\n",
            "Epoch 4/8 - 232.97s - loss: 583.44824 - batches: 472\n",
            "Quality on test dataset: \n",
            "time to finish evaluation: 30.90s\n",
            "label\t tp\t fp\t fn\t prec\t rec\t f1\n",
            "I-Protein\t 3431\t 659\t 647\t 0.8388753\t 0.8413438\t 0.8401077\n",
            "B-Protein\t 2959\t 403\t 630\t 0.8801309\t 0.82446367\t 0.8513883\n",
            "tp: 6390 fp: 1062 fn: 1277 labels: 2\n",
            "Macro-average\t prec: 0.8595031, rec: 0.83290374, f1: 0.84599435\n",
            "Micro-average\t prec: 0.8574879, rec: 0.83344203, f1: 0.84529406\n",
            "\n",
            "\n",
            "Epoch 5/8 started, lr: 0.0029411765, dataset size: 4711\n",
            "\n",
            "\n",
            "Epoch 5/8 - 234.73s - loss: 522.692 - batches: 472\n",
            "Quality on test dataset: \n",
            "time to finish evaluation: 30.60s\n",
            "label\t tp\t fp\t fn\t prec\t rec\t f1\n",
            "I-Protein\t 3203\t 334\t 875\t 0.9055697\t 0.785434\t 0.8412344\n",
            "B-Protein\t 2916\t 294\t 673\t 0.9084112\t 0.8124826\t 0.8577732\n",
            "tp: 6119 fp: 628 fn: 1548 labels: 2\n",
            "Macro-average\t prec: 0.9069904, rec: 0.7989583, f1: 0.8495537\n",
            "Micro-average\t prec: 0.90692157, rec: 0.79809576, f1: 0.8490357\n",
            "\n",
            "\n",
            "Epoch 6/8 started, lr: 0.0029268293, dataset size: 4711\n",
            "\n",
            "\n",
            "Epoch 6/8 - 234.66s - loss: 443.22028 - batches: 472\n",
            "Quality on test dataset: \n",
            "time to finish evaluation: 31.95s\n",
            "label\t tp\t fp\t fn\t prec\t rec\t f1\n",
            "I-Protein\t 3363\t 474\t 715\t 0.876466\t 0.82466894\t 0.8497789\n",
            "B-Protein\t 3013\t 398\t 576\t 0.88331866\t 0.8395096\t 0.8608571\n",
            "tp: 6376 fp: 872 fn: 1291 labels: 2\n",
            "Macro-average\t prec: 0.87989235, rec: 0.8320893, f1: 0.85532343\n",
            "Micro-average\t prec: 0.87969095, rec: 0.83161604, f1: 0.8549782\n",
            "\n",
            "\n",
            "Epoch 7/8 started, lr: 0.0029126215, dataset size: 4711\n",
            "\n",
            "\n",
            "Epoch 7/8 - 231.71s - loss: 396.92984 - batches: 472\n",
            "Quality on test dataset: \n",
            "time to finish evaluation: 31.16s\n",
            "label\t tp\t fp\t fn\t prec\t rec\t f1\n",
            "I-Protein\t 3821\t 1813\t 257\t 0.67820376\t 0.93697894\t 0.78686166\n",
            "B-Protein\t 3243\t 857\t 346\t 0.79097563\t 0.9035943\t 0.84354275\n",
            "tp: 7064 fp: 2670 fn: 603 labels: 2\n",
            "Macro-average\t prec: 0.7345897, rec: 0.92028666, f1: 0.81701946\n",
            "Micro-average\t prec: 0.7257037, rec: 0.92135125, f1: 0.8119074\n",
            "\n",
            "\n",
            "Epoch 8/8 started, lr: 0.0028985508, dataset size: 4711\n",
            "\n",
            "\n",
            "Epoch 8/8 - 233.54s - loss: 365.49478 - batches: 472\n",
            "Quality on test dataset: \n",
            "time to finish evaluation: 31.33s\n",
            "label\t tp\t fp\t fn\t prec\t rec\t f1\n",
            "I-Protein\t 3495\t 454\t 583\t 0.8850342\t 0.8570378\t 0.870811\n",
            "B-Protein\t 3039\t 420\t 550\t 0.87857765\t 0.84675395\t 0.86237234\n",
            "tp: 6534 fp: 874 fn: 1133 labels: 2\n",
            "Macro-average\t prec: 0.8818059, rec: 0.85189587, f1: 0.86659294\n",
            "Micro-average\t prec: 0.88201946, rec: 0.8522238, f1: 0.8668657\n"
          ]
        }
      ]
    },
    {
      "cell_type": "code",
      "source": [
        "import pyspark.sql.functions as F\n",
        "\n",
        "predictions = ner_model.transform(test_data)\n",
        "\n",
        "predictions.select(F.explode(F.arrays_zip('token.result','label.result','ner.result')).alias(\"cols\")) \\\n",
        ".select(F.expr(\"cols['0']\").alias(\"token\"),\n",
        "        F.expr(\"cols['1']\").alias(\"ground_truth\"),\n",
        "        F.expr(\"cols['2']\").alias(\"prediction\")).show(truncate=False)"
      ],
      "metadata": {
        "colab": {
          "base_uri": "https://localhost:8080/"
        },
        "id": "wMEQDQj5Evgp",
        "outputId": "4db82685-3faa-4e5c-a634-6561dbefef25"
      },
      "execution_count": 13,
      "outputs": [
        {
          "output_type": "stream",
          "name": "stdout",
          "text": [
            "+--------------+------------+----------+\n",
            "|token         |ground_truth|prediction|\n",
            "+--------------+------------+----------+\n",
            "|Daidzein      |O           |O         |\n",
            "|and           |O           |O         |\n",
            "|genistein     |O           |O         |\n",
            "|glucuronides  |O           |O         |\n",
            "|in            |O           |O         |\n",
            "|vitro         |O           |O         |\n",
            "|are           |O           |O         |\n",
            "|weakly        |O           |O         |\n",
            "|estrogenic    |O           |O         |\n",
            "|and           |O           |O         |\n",
            "|activate      |O           |O         |\n",
            "|human         |O           |O         |\n",
            "|natural       |O           |O         |\n",
            "|killer        |O           |O         |\n",
            "|cells         |O           |O         |\n",
            "|at            |O           |O         |\n",
            "|nutritionally |O           |O         |\n",
            "|relevant      |O           |O         |\n",
            "|concentrations|O           |O         |\n",
            "|.             |O           |O         |\n",
            "+--------------+------------+----------+\n",
            "only showing top 20 rows\n",
            "\n"
          ]
        }
      ]
    },
    {
      "cell_type": "code",
      "source": [
        "from sklearn.metrics import classification_report, accuracy_score\n",
        "\n",
        "preds_df = predictions.select(F.explode(F.arrays_zip('token.result','label.result','ner.result')).alias(\"cols\")) \\\n",
        ".select(F.expr(\"cols['0']\").alias(\"token\"),\n",
        "        F.expr(\"cols['1']\").alias(\"ground_truth\"),\n",
        "        F.expr(\"cols['2']\").alias(\"prediction\")).toPandas()\n",
        "\n",
        "print (classification_report(preds_df['ground_truth'], preds_df['prediction']))\n",
        "print (accuracy_score(preds_df['ground_truth'], preds_df['prediction']))"
      ],
      "metadata": {
        "colab": {
          "base_uri": "https://localhost:8080/"
        },
        "id": "VltoraIlEvad",
        "outputId": "e35bbc76-884a-4078-ace0-d34ac0c5465f"
      },
      "execution_count": 14,
      "outputs": [
        {
          "output_type": "stream",
          "name": "stdout",
          "text": [
            "              precision    recall  f1-score   support\n",
            "\n",
            "   B-Protein       0.88      0.85      0.86      3589\n",
            "   I-Protein       0.89      0.86      0.87      4078\n",
            "           O       0.98      0.99      0.99     66957\n",
            "\n",
            "    accuracy                           0.97     74624\n",
            "   macro avg       0.92      0.90      0.91     74624\n",
            "weighted avg       0.97      0.97      0.97     74624\n",
            "\n",
            "0.9739493996569468\n"
          ]
        }
      ]
    },
    {
      "cell_type": "code",
      "source": [
        "ner_model.stages"
      ],
      "metadata": {
        "colab": {
          "base_uri": "https://localhost:8080/"
        },
        "id": "LhcpatLtE5Hx",
        "outputId": "f6e0aaf0-5b34-4b98-c0af-306c74849b4d"
      },
      "execution_count": 15,
      "outputs": [
        {
          "output_type": "execute_result",
          "data": {
            "text/plain": [
              "[WORD_EMBEDDINGS_MODEL_48cffc8b9a76, NerDLModel_6514fb7c849c]"
            ]
          },
          "metadata": {},
          "execution_count": 15
        }
      ]
    },
    {
      "cell_type": "code",
      "source": [
        "ner_model.stages[1].write().overwrite().save(\"/content/drive/MyDrive/BioNLP09_IOB_NER_Model/Ner_glove_100d_e8_b10_lr0.03\")"
      ],
      "metadata": {
        "id": "TvQx9anhE5E4"
      },
      "execution_count": 16,
      "outputs": []
    },
    {
      "cell_type": "code",
      "source": [
        "document = DocumentAssembler()\\\n",
        "    .setInputCol(\"text\")\\\n",
        "    .setOutputCol(\"document\")\n",
        "\n",
        "sentence = SentenceDetector()\\\n",
        "    .setInputCols(['document'])\\\n",
        "    .setOutputCol('sentence')\n",
        "\n",
        "token = Tokenizer()\\\n",
        "    .setInputCols(['sentence'])\\\n",
        "    .setOutputCol('token')\n",
        "    \n",
        "glove_embeddings = WordEmbeddingsModel.pretrained()\\\n",
        "    .setInputCols([\"document\", \"token\"])\\\n",
        "    .setOutputCol(\"embeddings\")\n",
        "\n",
        "loaded_ner_model = NerDLModel.load(\"/content/drive/MyDrive/BioNLP09_IOB_NER_Model/Ner_glove_100d_e8_b10_lr0.03\")\\\n",
        "    .setInputCols([\"sentence\", \"token\", \"embeddings\"])\\\n",
        "    .setOutputCol(\"ner\")\n",
        "\n",
        "converter = NerConverter()\\\n",
        "    .setInputCols([\"sentence\", \"token\", \"ner\"])\\\n",
        "    .setOutputCol(\"ner_span\")\n",
        "\n",
        "ner_prediction_pipeline = Pipeline(stages = [\n",
        "      document,\n",
        "      sentence,\n",
        "      token,\n",
        "      glove_embeddings,\n",
        "      loaded_ner_model,\n",
        "      converter\n",
        "  ])\n",
        "\n",
        "empty_data = spark.createDataFrame([['']]).toDF(\"text\")\n",
        "\n",
        "prediction_model = ner_prediction_pipeline.fit(empty_data)"
      ],
      "metadata": {
        "colab": {
          "base_uri": "https://localhost:8080/"
        },
        "id": "FIdew7rdE5B6",
        "outputId": "2647793f-4c72-4b4e-e198-9636f4956f0d"
      },
      "execution_count": 17,
      "outputs": [
        {
          "output_type": "stream",
          "name": "stdout",
          "text": [
            "glove_100d download started this may take some time.\n",
            "Approximate size to download 145.3 MB\n",
            "[OK!]\n"
          ]
        }
      ]
    },
    {
      "cell_type": "code",
      "source": [
        "text = '''\n",
        "MACROPHAGES ARE MONONUCLEAR phagocytes that reside within almost all tissues including adipose tissue, where they are identifiable as distinct populations with tissue-specific morphology, localization, and function (1). During the process of atherosclerosis, monocytes adhere to the endothelium and migrate into the intima, express scavenger receptors, and bind internalized lipoprotein particles resulting in the formation of foam cells (2). In obesity, adipose tissue contains an increased number of resident macrophages (3, 4). Macrophage accumulation in proportion to adipocyte size may increase the adipose tissue production of proinflammatory and acute-phase molecules and thereby contribute to the pathophysiological consequences of obesity (1, 3). These facts indicate that macrophages play an important role in a variety of diseases. When activated, macrophages release stereotypical profiles of cytokines and biological molecules such as nitric oxide TNF-α, IL-6, and IL-1 (5). TNF-α is a potent chemoattractant (6) and originates predominantly from residing mouse peritoneal macrophages (MPM) and mast cells (7). TNF-α induces leukocyte adhesion and degranulation, stimulates nicotinamide adenine dinucleotide phosphate (NADPH) oxidase, and enhances expression of IL-2 receptors and expression of E-selectin and intercellular adhesion molecules on the endothelium (8). TNF-α also stimulates expression of IL-1, IL-2, IL-6, and platelet-activating factor receptor (9). In addition, TNF-α decreases insulin sensitivity and increases lipolysis in adipocytes (10, 11). IL-6 also increase lipolysis and has been implicated in the hypertriglyceridemia and increased serum free fatty acid levels associated with obesity (12). Increased IL-6 signaling induces the expression of C-reactive protein and haptoglubin in liver (13). Recombinant IL-6 treatment increases atherosclerotic lesion size 5-fold (14). IL-6 also dose-dependently increases macrophage oxidative low-density lipoprotein (LDL) degradation and CD36 mRNA expression in vitro (15). These data clearly indicate that IL-6 and TNF-α are important pathogenetic factors associated with obesity, insulin resistance, and atherosclerosis. However, the factors regulating gene expression of these cytokines in macrophages have not been fully clarified.\n",
        "'''\n",
        "\n",
        "sample_data = spark.createDataFrame([[text]]).toDF(\"text\")\n",
        "\n",
        "sample_data.show(truncate=100)"
      ],
      "metadata": {
        "colab": {
          "base_uri": "https://localhost:8080/"
        },
        "id": "wQnmpH66E4_H",
        "outputId": "d62e479e-0b61-4a7e-a883-d437aa572133"
      },
      "execution_count": 38,
      "outputs": [
        {
          "output_type": "stream",
          "name": "stdout",
          "text": [
            "+----------------------------------------------------------------------------------------------------+\n",
            "|                                                                                                text|\n",
            "+----------------------------------------------------------------------------------------------------+\n",
            "|\n",
            "MACROPHAGES ARE MONONUCLEAR phagocytes that reside within almost all tissues including adipose t...|\n",
            "+----------------------------------------------------------------------------------------------------+\n",
            "\n"
          ]
        }
      ]
    },
    {
      "cell_type": "code",
      "source": [
        "preds = prediction_model.transform(sample_data)\n",
        "\n",
        "result_df = preds.select(F.explode(F.arrays_zip(\"ner_span.result\",\"ner_span.metadata\")).alias(\"entities\")) \\\n",
        "                .select(F.expr(\"entities['0']\").alias(\"chunk\"),\n",
        "                        F.expr(\"entities['1'].entity\").alias(\"entity\")).show(truncate=False)"
      ],
      "metadata": {
        "colab": {
          "base_uri": "https://localhost:8080/"
        },
        "id": "yZgp4MNMEvW7",
        "outputId": "a57a0e33-7ee1-4eb5-e3d5-462d58819f43"
      },
      "execution_count": 39,
      "outputs": [
        {
          "output_type": "stream",
          "name": "stdout",
          "text": [
            "+--------------------------------------+-------+\n",
            "|chunk                                 |entity |\n",
            "+--------------------------------------+-------+\n",
            "|IL-6                                  |Protein|\n",
            "|IL-1                                  |Protein|\n",
            "|dinucleotide phosphate (NADPH) oxidase|Protein|\n",
            "|IL-2 receptors                        |Protein|\n",
            "|E-selectin                            |Protein|\n",
            "|IL-1                                  |Protein|\n",
            "|IL-2                                  |Protein|\n",
            "|IL-6                                  |Protein|\n",
            "|insulin                               |Protein|\n",
            "|IL-6                                  |Protein|\n",
            "|haptoglubin                           |Protein|\n",
            "|IL-6                                  |Protein|\n",
            "|CD36                                  |Protein|\n",
            "|IL-6                                  |Protein|\n",
            "|insulin                               |Protein|\n",
            "+--------------------------------------+-------+\n",
            "\n"
          ]
        }
      ]
    },
    {
      "cell_type": "code",
      "source": [
        "from sparknlp.base import LightPipeline\n",
        "\n",
        "light_model = LightPipeline(prediction_model)\n",
        "\n",
        "result = light_model.annotate(text)\n",
        "\n",
        "list(zip(result['token'], result['ner']))"
      ],
      "metadata": {
        "colab": {
          "base_uri": "https://localhost:8080/"
        },
        "id": "mQxRc2_7FZBC",
        "outputId": "c9e39876-316b-47e5-ce2b-47ac0eed621d"
      },
      "execution_count": 40,
      "outputs": [
        {
          "output_type": "execute_result",
          "data": {
            "text/plain": [
              "[('MACROPHAGES', 'O'),\n",
              " ('ARE', 'O'),\n",
              " ('MONONUCLEAR', 'O'),\n",
              " ('phagocytes', 'O'),\n",
              " ('that', 'O'),\n",
              " ('reside', 'O'),\n",
              " ('within', 'O'),\n",
              " ('almost', 'O'),\n",
              " ('all', 'O'),\n",
              " ('tissues', 'O'),\n",
              " ('including', 'O'),\n",
              " ('adipose', 'O'),\n",
              " ('tissue', 'O'),\n",
              " (',', 'O'),\n",
              " ('where', 'O'),\n",
              " ('they', 'O'),\n",
              " ('are', 'O'),\n",
              " ('identifiable', 'O'),\n",
              " ('as', 'O'),\n",
              " ('distinct', 'O'),\n",
              " ('populations', 'O'),\n",
              " ('with', 'O'),\n",
              " ('tissue-specific', 'O'),\n",
              " ('morphology', 'O'),\n",
              " (',', 'O'),\n",
              " ('localization', 'O'),\n",
              " (',', 'O'),\n",
              " ('and', 'O'),\n",
              " ('function', 'O'),\n",
              " ('(', 'O'),\n",
              " ('1', 'O'),\n",
              " (').', 'O'),\n",
              " ('During', 'O'),\n",
              " ('the', 'O'),\n",
              " ('process', 'O'),\n",
              " ('of', 'O'),\n",
              " ('atherosclerosis', 'O'),\n",
              " (',', 'O'),\n",
              " ('monocytes', 'O'),\n",
              " ('adhere', 'O'),\n",
              " ('to', 'O'),\n",
              " ('the', 'O'),\n",
              " ('endothelium', 'O'),\n",
              " ('and', 'O'),\n",
              " ('migrate', 'O'),\n",
              " ('into', 'O'),\n",
              " ('the', 'O'),\n",
              " ('intima', 'O'),\n",
              " (',', 'O'),\n",
              " ('express', 'O'),\n",
              " ('scavenger', 'O'),\n",
              " ('receptors', 'O'),\n",
              " (',', 'O'),\n",
              " ('and', 'O'),\n",
              " ('bind', 'O'),\n",
              " ('internalized', 'O'),\n",
              " ('lipoprotein', 'O'),\n",
              " ('particles', 'O'),\n",
              " ('resulting', 'O'),\n",
              " ('in', 'O'),\n",
              " ('the', 'O'),\n",
              " ('formation', 'O'),\n",
              " ('of', 'O'),\n",
              " ('foam', 'O'),\n",
              " ('cells', 'O'),\n",
              " ('(', 'O'),\n",
              " ('2', 'O'),\n",
              " (').', 'O'),\n",
              " ('In', 'O'),\n",
              " ('obesity', 'O'),\n",
              " (',', 'O'),\n",
              " ('adipose', 'O'),\n",
              " ('tissue', 'O'),\n",
              " ('contains', 'O'),\n",
              " ('an', 'O'),\n",
              " ('increased', 'O'),\n",
              " ('number', 'O'),\n",
              " ('of', 'O'),\n",
              " ('resident', 'O'),\n",
              " ('macrophages', 'O'),\n",
              " ('(', 'O'),\n",
              " ('3', 'O'),\n",
              " (',', 'O'),\n",
              " ('4', 'O'),\n",
              " (').', 'O'),\n",
              " ('Macrophage', 'O'),\n",
              " ('accumulation', 'O'),\n",
              " ('in', 'O'),\n",
              " ('proportion', 'O'),\n",
              " ('to', 'O'),\n",
              " ('adipocyte', 'O'),\n",
              " ('size', 'O'),\n",
              " ('may', 'O'),\n",
              " ('increase', 'O'),\n",
              " ('the', 'O'),\n",
              " ('adipose', 'O'),\n",
              " ('tissue', 'O'),\n",
              " ('production', 'O'),\n",
              " ('of', 'O'),\n",
              " ('proinflammatory', 'O'),\n",
              " ('and', 'O'),\n",
              " ('acute-phase', 'O'),\n",
              " ('molecules', 'O'),\n",
              " ('and', 'O'),\n",
              " ('thereby', 'O'),\n",
              " ('contribute', 'O'),\n",
              " ('to', 'O'),\n",
              " ('the', 'O'),\n",
              " ('pathophysiological', 'O'),\n",
              " ('consequences', 'O'),\n",
              " ('of', 'O'),\n",
              " ('obesity', 'O'),\n",
              " ('(', 'O'),\n",
              " ('1', 'O'),\n",
              " (',', 'O'),\n",
              " ('3', 'O'),\n",
              " (').', 'O'),\n",
              " ('These', 'O'),\n",
              " ('facts', 'O'),\n",
              " ('indicate', 'O'),\n",
              " ('that', 'O'),\n",
              " ('macrophages', 'O'),\n",
              " ('play', 'O'),\n",
              " ('an', 'O'),\n",
              " ('important', 'O'),\n",
              " ('role', 'O'),\n",
              " ('in', 'O'),\n",
              " ('a', 'O'),\n",
              " ('variety', 'O'),\n",
              " ('of', 'O'),\n",
              " ('diseases', 'O'),\n",
              " ('.', 'O'),\n",
              " ('When', 'O'),\n",
              " ('activated', 'O'),\n",
              " (',', 'O'),\n",
              " ('macrophages', 'O'),\n",
              " ('release', 'O'),\n",
              " ('stereotypical', 'O'),\n",
              " ('profiles', 'O'),\n",
              " ('of', 'O'),\n",
              " ('cytokines', 'O'),\n",
              " ('and', 'O'),\n",
              " ('biological', 'O'),\n",
              " ('molecules', 'O'),\n",
              " ('such', 'O'),\n",
              " ('as', 'O'),\n",
              " ('nitric', 'O'),\n",
              " ('oxide', 'O'),\n",
              " ('TNF-α', 'O'),\n",
              " (',', 'O'),\n",
              " ('IL-6', 'B-Protein'),\n",
              " (',', 'O'),\n",
              " ('and', 'O'),\n",
              " ('IL-1', 'B-Protein'),\n",
              " ('(', 'O'),\n",
              " ('5', 'O'),\n",
              " (').', 'O'),\n",
              " ('TNF-α', 'O'),\n",
              " ('is', 'O'),\n",
              " ('a', 'O'),\n",
              " ('potent', 'O'),\n",
              " ('chemoattractant', 'O'),\n",
              " ('(', 'O'),\n",
              " ('6', 'O'),\n",
              " (')', 'O'),\n",
              " ('and', 'O'),\n",
              " ('originates', 'O'),\n",
              " ('predominantly', 'O'),\n",
              " ('from', 'O'),\n",
              " ('residing', 'O'),\n",
              " ('mouse', 'O'),\n",
              " ('peritoneal', 'O'),\n",
              " ('macrophages', 'O'),\n",
              " ('(', 'O'),\n",
              " ('MPM', 'O'),\n",
              " (')', 'O'),\n",
              " ('and', 'O'),\n",
              " ('mast', 'O'),\n",
              " ('cells', 'O'),\n",
              " ('(', 'O'),\n",
              " ('7', 'O'),\n",
              " (').', 'O'),\n",
              " ('TNF-α', 'O'),\n",
              " ('induces', 'O'),\n",
              " ('leukocyte', 'O'),\n",
              " ('adhesion', 'O'),\n",
              " ('and', 'O'),\n",
              " ('degranulation', 'O'),\n",
              " (',', 'O'),\n",
              " ('stimulates', 'O'),\n",
              " ('nicotinamide', 'O'),\n",
              " ('adenine', 'O'),\n",
              " ('dinucleotide', 'B-Protein'),\n",
              " ('phosphate', 'I-Protein'),\n",
              " ('(', 'I-Protein'),\n",
              " ('NADPH', 'I-Protein'),\n",
              " (')', 'I-Protein'),\n",
              " ('oxidase', 'I-Protein'),\n",
              " (',', 'O'),\n",
              " ('and', 'O'),\n",
              " ('enhances', 'O'),\n",
              " ('expression', 'O'),\n",
              " ('of', 'O'),\n",
              " ('IL-2', 'B-Protein'),\n",
              " ('receptors', 'I-Protein'),\n",
              " ('and', 'O'),\n",
              " ('expression', 'O'),\n",
              " ('of', 'O'),\n",
              " ('E-selectin', 'B-Protein'),\n",
              " ('and', 'O'),\n",
              " ('intercellular', 'O'),\n",
              " ('adhesion', 'O'),\n",
              " ('molecules', 'O'),\n",
              " ('on', 'O'),\n",
              " ('the', 'O'),\n",
              " ('endothelium', 'O'),\n",
              " ('(', 'O'),\n",
              " ('8', 'O'),\n",
              " (').', 'O'),\n",
              " ('TNF-α', 'O'),\n",
              " ('also', 'O'),\n",
              " ('stimulates', 'O'),\n",
              " ('expression', 'O'),\n",
              " ('of', 'O'),\n",
              " ('IL-1', 'B-Protein'),\n",
              " (',', 'O'),\n",
              " ('IL-2', 'B-Protein'),\n",
              " (',', 'O'),\n",
              " ('IL-6', 'B-Protein'),\n",
              " (',', 'O'),\n",
              " ('and', 'O'),\n",
              " ('platelet-activating', 'O'),\n",
              " ('factor', 'O'),\n",
              " ('receptor', 'O'),\n",
              " ('(', 'O'),\n",
              " ('9', 'O'),\n",
              " (').', 'O'),\n",
              " ('In', 'O'),\n",
              " ('addition', 'O'),\n",
              " (',', 'O'),\n",
              " ('TNF-α', 'O'),\n",
              " ('decreases', 'O'),\n",
              " ('insulin', 'B-Protein'),\n",
              " ('sensitivity', 'O'),\n",
              " ('and', 'O'),\n",
              " ('increases', 'O'),\n",
              " ('lipolysis', 'O'),\n",
              " ('in', 'O'),\n",
              " ('adipocytes', 'O'),\n",
              " ('(', 'O'),\n",
              " ('10', 'O'),\n",
              " (',', 'O'),\n",
              " ('11', 'O'),\n",
              " (').', 'O'),\n",
              " ('IL-6', 'O'),\n",
              " ('also', 'O'),\n",
              " ('increase', 'O'),\n",
              " ('lipolysis', 'O'),\n",
              " ('and', 'O'),\n",
              " ('has', 'O'),\n",
              " ('been', 'O'),\n",
              " ('implicated', 'O'),\n",
              " ('in', 'O'),\n",
              " ('the', 'O'),\n",
              " ('hypertriglyceridemia', 'O'),\n",
              " ('and', 'O'),\n",
              " ('increased', 'O'),\n",
              " ('serum', 'O'),\n",
              " ('free', 'O'),\n",
              " ('fatty', 'O'),\n",
              " ('acid', 'O'),\n",
              " ('levels', 'O'),\n",
              " ('associated', 'O'),\n",
              " ('with', 'O'),\n",
              " ('obesity', 'O'),\n",
              " ('(', 'O'),\n",
              " ('12', 'O'),\n",
              " (').', 'O'),\n",
              " ('Increased', 'O'),\n",
              " ('IL-6', 'B-Protein'),\n",
              " ('signaling', 'O'),\n",
              " ('induces', 'O'),\n",
              " ('the', 'O'),\n",
              " ('expression', 'O'),\n",
              " ('of', 'O'),\n",
              " ('C-reactive', 'O'),\n",
              " ('protein', 'O'),\n",
              " ('and', 'O'),\n",
              " ('haptoglubin', 'B-Protein'),\n",
              " ('in', 'O'),\n",
              " ('liver', 'O'),\n",
              " ('(', 'O'),\n",
              " ('13', 'O'),\n",
              " (').', 'O'),\n",
              " ('Recombinant', 'O'),\n",
              " ('IL-6', 'B-Protein'),\n",
              " ('treatment', 'O'),\n",
              " ('increases', 'O'),\n",
              " ('atherosclerotic', 'O'),\n",
              " ('lesion', 'O'),\n",
              " ('size', 'O'),\n",
              " ('5-fold', 'O'),\n",
              " ('(', 'O'),\n",
              " ('14', 'O'),\n",
              " (').', 'O'),\n",
              " ('IL-6', 'O'),\n",
              " ('also', 'O'),\n",
              " ('dose-dependently', 'O'),\n",
              " ('increases', 'O'),\n",
              " ('macrophage', 'O'),\n",
              " ('oxidative', 'O'),\n",
              " ('low-density', 'O'),\n",
              " ('lipoprotein', 'O'),\n",
              " ('(', 'O'),\n",
              " ('LDL', 'O'),\n",
              " (')', 'O'),\n",
              " ('degradation', 'O'),\n",
              " ('and', 'O'),\n",
              " ('CD36', 'B-Protein'),\n",
              " ('mRNA', 'O'),\n",
              " ('expression', 'O'),\n",
              " ('in', 'O'),\n",
              " ('vitro', 'O'),\n",
              " ('(', 'O'),\n",
              " ('15', 'O'),\n",
              " (').', 'O'),\n",
              " ('These', 'O'),\n",
              " ('data', 'O'),\n",
              " ('clearly', 'O'),\n",
              " ('indicate', 'O'),\n",
              " ('that', 'O'),\n",
              " ('IL-6', 'B-Protein'),\n",
              " ('and', 'O'),\n",
              " ('TNF-α', 'O'),\n",
              " ('are', 'O'),\n",
              " ('important', 'O'),\n",
              " ('pathogenetic', 'O'),\n",
              " ('factors', 'O'),\n",
              " ('associated', 'O'),\n",
              " ('with', 'O'),\n",
              " ('obesity', 'O'),\n",
              " (',', 'O'),\n",
              " ('insulin', 'B-Protein'),\n",
              " ('resistance', 'O'),\n",
              " (',', 'O'),\n",
              " ('and', 'O'),\n",
              " ('atherosclerosis', 'O'),\n",
              " ('.', 'O'),\n",
              " ('However', 'O'),\n",
              " (',', 'O'),\n",
              " ('the', 'O'),\n",
              " ('factors', 'O'),\n",
              " ('regulating', 'O'),\n",
              " ('gene', 'O'),\n",
              " ('expression', 'O'),\n",
              " ('of', 'O'),\n",
              " ('these', 'O'),\n",
              " ('cytokines', 'O'),\n",
              " ('in', 'O'),\n",
              " ('macrophages', 'O'),\n",
              " ('have', 'O'),\n",
              " ('not', 'O'),\n",
              " ('been', 'O'),\n",
              " ('fully', 'O'),\n",
              " ('clarified', 'O'),\n",
              " ('.', 'O')]"
            ]
          },
          "metadata": {},
          "execution_count": 40
        }
      ]
    },
    {
      "cell_type": "code",
      "source": [
        "import pandas as pd\n",
        "\n",
        "result = light_model.fullAnnotate(text)\n",
        "\n",
        "ner_df= pd.DataFrame([(int(x.metadata['sentence']), x.result, x.begin, x.end, y.result) for x,y in zip(result[0][\"token\"], result[0][\"ner\"])], \n",
        "                      columns=['sent_id','token','start','end','ner'])\n",
        "ner_df.head(15)"
      ],
      "metadata": {
        "colab": {
          "base_uri": "https://localhost:8080/",
          "height": 514
        },
        "id": "Lq8fqJfmFY9V",
        "outputId": "8476839b-f991-45b2-c7e3-9b95a8cb70ec"
      },
      "execution_count": 41,
      "outputs": [
        {
          "output_type": "execute_result",
          "data": {
            "text/html": [
              "\n",
              "  <div id=\"df-e367bb04-120f-4149-bec8-bc58098ecca3\">\n",
              "    <div class=\"colab-df-container\">\n",
              "      <div>\n",
              "<style scoped>\n",
              "    .dataframe tbody tr th:only-of-type {\n",
              "        vertical-align: middle;\n",
              "    }\n",
              "\n",
              "    .dataframe tbody tr th {\n",
              "        vertical-align: top;\n",
              "    }\n",
              "\n",
              "    .dataframe thead th {\n",
              "        text-align: right;\n",
              "    }\n",
              "</style>\n",
              "<table border=\"1\" class=\"dataframe\">\n",
              "  <thead>\n",
              "    <tr style=\"text-align: right;\">\n",
              "      <th></th>\n",
              "      <th>sent_id</th>\n",
              "      <th>token</th>\n",
              "      <th>start</th>\n",
              "      <th>end</th>\n",
              "      <th>ner</th>\n",
              "    </tr>\n",
              "  </thead>\n",
              "  <tbody>\n",
              "    <tr>\n",
              "      <th>0</th>\n",
              "      <td>0</td>\n",
              "      <td>MACROPHAGES</td>\n",
              "      <td>1</td>\n",
              "      <td>11</td>\n",
              "      <td>O</td>\n",
              "    </tr>\n",
              "    <tr>\n",
              "      <th>1</th>\n",
              "      <td>0</td>\n",
              "      <td>ARE</td>\n",
              "      <td>13</td>\n",
              "      <td>15</td>\n",
              "      <td>O</td>\n",
              "    </tr>\n",
              "    <tr>\n",
              "      <th>2</th>\n",
              "      <td>0</td>\n",
              "      <td>MONONUCLEAR</td>\n",
              "      <td>17</td>\n",
              "      <td>27</td>\n",
              "      <td>O</td>\n",
              "    </tr>\n",
              "    <tr>\n",
              "      <th>3</th>\n",
              "      <td>0</td>\n",
              "      <td>phagocytes</td>\n",
              "      <td>29</td>\n",
              "      <td>38</td>\n",
              "      <td>O</td>\n",
              "    </tr>\n",
              "    <tr>\n",
              "      <th>4</th>\n",
              "      <td>0</td>\n",
              "      <td>that</td>\n",
              "      <td>40</td>\n",
              "      <td>43</td>\n",
              "      <td>O</td>\n",
              "    </tr>\n",
              "    <tr>\n",
              "      <th>5</th>\n",
              "      <td>0</td>\n",
              "      <td>reside</td>\n",
              "      <td>45</td>\n",
              "      <td>50</td>\n",
              "      <td>O</td>\n",
              "    </tr>\n",
              "    <tr>\n",
              "      <th>6</th>\n",
              "      <td>0</td>\n",
              "      <td>within</td>\n",
              "      <td>52</td>\n",
              "      <td>57</td>\n",
              "      <td>O</td>\n",
              "    </tr>\n",
              "    <tr>\n",
              "      <th>7</th>\n",
              "      <td>0</td>\n",
              "      <td>almost</td>\n",
              "      <td>59</td>\n",
              "      <td>64</td>\n",
              "      <td>O</td>\n",
              "    </tr>\n",
              "    <tr>\n",
              "      <th>8</th>\n",
              "      <td>0</td>\n",
              "      <td>all</td>\n",
              "      <td>66</td>\n",
              "      <td>68</td>\n",
              "      <td>O</td>\n",
              "    </tr>\n",
              "    <tr>\n",
              "      <th>9</th>\n",
              "      <td>0</td>\n",
              "      <td>tissues</td>\n",
              "      <td>70</td>\n",
              "      <td>76</td>\n",
              "      <td>O</td>\n",
              "    </tr>\n",
              "    <tr>\n",
              "      <th>10</th>\n",
              "      <td>0</td>\n",
              "      <td>including</td>\n",
              "      <td>78</td>\n",
              "      <td>86</td>\n",
              "      <td>O</td>\n",
              "    </tr>\n",
              "    <tr>\n",
              "      <th>11</th>\n",
              "      <td>0</td>\n",
              "      <td>adipose</td>\n",
              "      <td>88</td>\n",
              "      <td>94</td>\n",
              "      <td>O</td>\n",
              "    </tr>\n",
              "    <tr>\n",
              "      <th>12</th>\n",
              "      <td>0</td>\n",
              "      <td>tissue</td>\n",
              "      <td>96</td>\n",
              "      <td>101</td>\n",
              "      <td>O</td>\n",
              "    </tr>\n",
              "    <tr>\n",
              "      <th>13</th>\n",
              "      <td>0</td>\n",
              "      <td>,</td>\n",
              "      <td>102</td>\n",
              "      <td>102</td>\n",
              "      <td>O</td>\n",
              "    </tr>\n",
              "    <tr>\n",
              "      <th>14</th>\n",
              "      <td>0</td>\n",
              "      <td>where</td>\n",
              "      <td>104</td>\n",
              "      <td>108</td>\n",
              "      <td>O</td>\n",
              "    </tr>\n",
              "  </tbody>\n",
              "</table>\n",
              "</div>\n",
              "      <button class=\"colab-df-convert\" onclick=\"convertToInteractive('df-e367bb04-120f-4149-bec8-bc58098ecca3')\"\n",
              "              title=\"Convert this dataframe to an interactive table.\"\n",
              "              style=\"display:none;\">\n",
              "        \n",
              "  <svg xmlns=\"http://www.w3.org/2000/svg\" height=\"24px\"viewBox=\"0 0 24 24\"\n",
              "       width=\"24px\">\n",
              "    <path d=\"M0 0h24v24H0V0z\" fill=\"none\"/>\n",
              "    <path d=\"M18.56 5.44l.94 2.06.94-2.06 2.06-.94-2.06-.94-.94-2.06-.94 2.06-2.06.94zm-11 1L8.5 8.5l.94-2.06 2.06-.94-2.06-.94L8.5 2.5l-.94 2.06-2.06.94zm10 10l.94 2.06.94-2.06 2.06-.94-2.06-.94-.94-2.06-.94 2.06-2.06.94z\"/><path d=\"M17.41 7.96l-1.37-1.37c-.4-.4-.92-.59-1.43-.59-.52 0-1.04.2-1.43.59L10.3 9.45l-7.72 7.72c-.78.78-.78 2.05 0 2.83L4 21.41c.39.39.9.59 1.41.59.51 0 1.02-.2 1.41-.59l7.78-7.78 2.81-2.81c.8-.78.8-2.07 0-2.86zM5.41 20L4 18.59l7.72-7.72 1.47 1.35L5.41 20z\"/>\n",
              "  </svg>\n",
              "      </button>\n",
              "      \n",
              "  <style>\n",
              "    .colab-df-container {\n",
              "      display:flex;\n",
              "      flex-wrap:wrap;\n",
              "      gap: 12px;\n",
              "    }\n",
              "\n",
              "    .colab-df-convert {\n",
              "      background-color: #E8F0FE;\n",
              "      border: none;\n",
              "      border-radius: 50%;\n",
              "      cursor: pointer;\n",
              "      display: none;\n",
              "      fill: #1967D2;\n",
              "      height: 32px;\n",
              "      padding: 0 0 0 0;\n",
              "      width: 32px;\n",
              "    }\n",
              "\n",
              "    .colab-df-convert:hover {\n",
              "      background-color: #E2EBFA;\n",
              "      box-shadow: 0px 1px 2px rgba(60, 64, 67, 0.3), 0px 1px 3px 1px rgba(60, 64, 67, 0.15);\n",
              "      fill: #174EA6;\n",
              "    }\n",
              "\n",
              "    [theme=dark] .colab-df-convert {\n",
              "      background-color: #3B4455;\n",
              "      fill: #D2E3FC;\n",
              "    }\n",
              "\n",
              "    [theme=dark] .colab-df-convert:hover {\n",
              "      background-color: #434B5C;\n",
              "      box-shadow: 0px 1px 3px 1px rgba(0, 0, 0, 0.15);\n",
              "      filter: drop-shadow(0px 1px 2px rgba(0, 0, 0, 0.3));\n",
              "      fill: #FFFFFF;\n",
              "    }\n",
              "  </style>\n",
              "\n",
              "      <script>\n",
              "        const buttonEl =\n",
              "          document.querySelector('#df-e367bb04-120f-4149-bec8-bc58098ecca3 button.colab-df-convert');\n",
              "        buttonEl.style.display =\n",
              "          google.colab.kernel.accessAllowed ? 'block' : 'none';\n",
              "\n",
              "        async function convertToInteractive(key) {\n",
              "          const element = document.querySelector('#df-e367bb04-120f-4149-bec8-bc58098ecca3');\n",
              "          const dataTable =\n",
              "            await google.colab.kernel.invokeFunction('convertToInteractive',\n",
              "                                                     [key], {});\n",
              "          if (!dataTable) return;\n",
              "\n",
              "          const docLinkHtml = 'Like what you see? Visit the ' +\n",
              "            '<a target=\"_blank\" href=https://colab.research.google.com/notebooks/data_table.ipynb>data table notebook</a>'\n",
              "            + ' to learn more about interactive tables.';\n",
              "          element.innerHTML = '';\n",
              "          dataTable['output_type'] = 'display_data';\n",
              "          await google.colab.output.renderOutput(dataTable, element);\n",
              "          const docLink = document.createElement('div');\n",
              "          docLink.innerHTML = docLinkHtml;\n",
              "          element.appendChild(docLink);\n",
              "        }\n",
              "      </script>\n",
              "    </div>\n",
              "  </div>\n",
              "  "
            ],
            "text/plain": [
              "    sent_id        token  start  end ner\n",
              "0         0  MACROPHAGES      1   11   O\n",
              "1         0          ARE     13   15   O\n",
              "2         0  MONONUCLEAR     17   27   O\n",
              "3         0   phagocytes     29   38   O\n",
              "4         0         that     40   43   O\n",
              "5         0       reside     45   50   O\n",
              "6         0       within     52   57   O\n",
              "7         0       almost     59   64   O\n",
              "8         0          all     66   68   O\n",
              "9         0      tissues     70   76   O\n",
              "10        0    including     78   86   O\n",
              "11        0      adipose     88   94   O\n",
              "12        0       tissue     96  101   O\n",
              "13        0            ,    102  102   O\n",
              "14        0        where    104  108   O"
            ]
          },
          "metadata": {},
          "execution_count": 41
        }
      ]
    },
    {
      "cell_type": "code",
      "source": [
        "ann_text = light_model.fullAnnotate(text)[0]\n",
        "ann_text.keys()"
      ],
      "metadata": {
        "colab": {
          "base_uri": "https://localhost:8080/"
        },
        "id": "YpuhmfIHFY5D",
        "outputId": "03d3316d-4b49-402c-f5a9-62640036e697"
      },
      "execution_count": 42,
      "outputs": [
        {
          "output_type": "execute_result",
          "data": {
            "text/plain": [
              "dict_keys(['document', 'ner_span', 'token', 'ner', 'embeddings', 'sentence'])"
            ]
          },
          "metadata": {},
          "execution_count": 42
        }
      ]
    },
    {
      "cell_type": "code",
      "source": [
        "from sparknlp_display import NerVisualizer\n",
        "\n",
        "visualiser = NerVisualizer()\n",
        "print ('Standard Output')\n",
        "visualiser.display(ann_text, label_col='ner_span', document_col='document')"
      ],
      "metadata": {
        "colab": {
          "base_uri": "https://localhost:8080/",
          "height": 746
        },
        "id": "nWUBZbGkFY1K",
        "outputId": "6cec5405-7e25-41a6-e700-aeb1ec888564"
      },
      "execution_count": 43,
      "outputs": [
        {
          "output_type": "stream",
          "name": "stdout",
          "text": [
            "Standard Output\n"
          ]
        },
        {
          "output_type": "display_data",
          "data": {
            "text/html": [
              "\n",
              "<style>\n",
              "    @import url('https://fonts.googleapis.com/css2?family=Montserrat:wght@300;400;500;600;700&display=swap');\n",
              "    @import url('https://fonts.googleapis.com/css2?family=Vistol Regular:wght@300;400;500;600;700&display=swap');\n",
              "    \n",
              "    .spark-nlp-display-scroll-entities {\n",
              "        border: 1px solid #E7EDF0;\n",
              "        border-radius: 3px;\n",
              "        text-align: justify;\n",
              "        \n",
              "    }\n",
              "    .spark-nlp-display-scroll-entities span {  \n",
              "        font-size: 14px;\n",
              "        line-height: 24px;\n",
              "        color: #536B76;\n",
              "        font-family: 'Montserrat', sans-serif !important;\n",
              "    }\n",
              "    \n",
              "    .spark-nlp-display-entity-wrapper{\n",
              "    \n",
              "        display: inline-grid;\n",
              "        text-align: center;\n",
              "        border-radius: 4px;\n",
              "        margin: 0 2px 5px 2px;\n",
              "        padding: 1px\n",
              "    }\n",
              "    .spark-nlp-display-entity-name{\n",
              "        font-size: 14px;\n",
              "        line-height: 24px;\n",
              "        font-family: 'Montserrat', sans-serif !important;\n",
              "        \n",
              "        background: #f1f2f3;\n",
              "        border-width: medium;\n",
              "        text-align: center;\n",
              "        \n",
              "        font-weight: 400;\n",
              "        \n",
              "        border-radius: 5px;\n",
              "        padding: 2px 5px;\n",
              "        display: block;\n",
              "        margin: 3px 2px;\n",
              "    \n",
              "    }\n",
              "    .spark-nlp-display-entity-type{\n",
              "        font-size: 14px;\n",
              "        line-height: 24px;\n",
              "        color: #ffffff;\n",
              "        font-family: 'Montserrat', sans-serif !important;\n",
              "        \n",
              "        text-transform: uppercase;\n",
              "        \n",
              "        font-weight: 500;\n",
              "\n",
              "        display: block;\n",
              "        padding: 3px 5px;\n",
              "    }\n",
              "    \n",
              "    .spark-nlp-display-entity-resolution{\n",
              "        font-size: 14px;\n",
              "        line-height: 24px;\n",
              "        color: #ffffff;\n",
              "        font-family: 'Vistol Regular', sans-serif !important;\n",
              "        \n",
              "        text-transform: uppercase;\n",
              "        \n",
              "        font-weight: 500;\n",
              "\n",
              "        display: block;\n",
              "        padding: 3px 5px;\n",
              "    }\n",
              "    \n",
              "    .spark-nlp-display-others{\n",
              "        font-size: 14px;\n",
              "        line-height: 24px;\n",
              "        font-family: 'Montserrat', sans-serif !important;\n",
              "        \n",
              "        font-weight: 400;\n",
              "    }\n",
              "\n",
              "</style>\n",
              " <span class=\"spark-nlp-display-others\" style=\"background-color: white\"><br>MACROPHAGES ARE MONONUCLEAR phagocytes that reside within almost all tissues including adipose tissue, where they are identifiable as distinct populations with tissue-specific morphology, localization, and function (1). During the process of atherosclerosis, monocytes adhere to the endothelium and migrate into the intima, express scavenger receptors, and bind internalized lipoprotein particles resulting in the formation of foam cells (2). In obesity, adipose tissue contains an increased number of resident macrophages (3, 4). Macrophage accumulation in proportion to adipocyte size may increase the adipose tissue production of proinflammatory and acute-phase molecules and thereby contribute to the pathophysiological consequences of obesity (1, 3). These facts indicate that macrophages play an important role in a variety of diseases. When activated, macrophages release stereotypical profiles of cytokines and biological molecules such as nitric oxide TNF-α, </span><span class=\"spark-nlp-display-entity-wrapper\" style=\"background-color: #5C122A\"><span class=\"spark-nlp-display-entity-name\">IL-6 </span><span class=\"spark-nlp-display-entity-type\">Protein</span></span><span class=\"spark-nlp-display-others\" style=\"background-color: white\">, and </span><span class=\"spark-nlp-display-entity-wrapper\" style=\"background-color: #5C122A\"><span class=\"spark-nlp-display-entity-name\">IL-1 </span><span class=\"spark-nlp-display-entity-type\">Protein</span></span><span class=\"spark-nlp-display-others\" style=\"background-color: white\"> (5). TNF-α is a potent chemoattractant (6) and originates predominantly from residing mouse peritoneal macrophages (MPM) and mast cells (7). TNF-α induces leukocyte adhesion and degranulation, stimulates nicotinamide adenine </span><span class=\"spark-nlp-display-entity-wrapper\" style=\"background-color: #5C122A\"><span class=\"spark-nlp-display-entity-name\">dinucleotide phosphate (NADPH) oxidase </span><span class=\"spark-nlp-display-entity-type\">Protein</span></span><span class=\"spark-nlp-display-others\" style=\"background-color: white\">, and enhances expression of </span><span class=\"spark-nlp-display-entity-wrapper\" style=\"background-color: #5C122A\"><span class=\"spark-nlp-display-entity-name\">IL-2 receptors </span><span class=\"spark-nlp-display-entity-type\">Protein</span></span><span class=\"spark-nlp-display-others\" style=\"background-color: white\"> and expression of </span><span class=\"spark-nlp-display-entity-wrapper\" style=\"background-color: #5C122A\"><span class=\"spark-nlp-display-entity-name\">E-selectin </span><span class=\"spark-nlp-display-entity-type\">Protein</span></span><span class=\"spark-nlp-display-others\" style=\"background-color: white\"> and intercellular adhesion molecules on the endothelium (8). TNF-α also stimulates expression of </span><span class=\"spark-nlp-display-entity-wrapper\" style=\"background-color: #5C122A\"><span class=\"spark-nlp-display-entity-name\">IL-1 </span><span class=\"spark-nlp-display-entity-type\">Protein</span></span><span class=\"spark-nlp-display-others\" style=\"background-color: white\">, </span><span class=\"spark-nlp-display-entity-wrapper\" style=\"background-color: #5C122A\"><span class=\"spark-nlp-display-entity-name\">IL-2 </span><span class=\"spark-nlp-display-entity-type\">Protein</span></span><span class=\"spark-nlp-display-others\" style=\"background-color: white\">, </span><span class=\"spark-nlp-display-entity-wrapper\" style=\"background-color: #5C122A\"><span class=\"spark-nlp-display-entity-name\">IL-6 </span><span class=\"spark-nlp-display-entity-type\">Protein</span></span><span class=\"spark-nlp-display-others\" style=\"background-color: white\">, and platelet-activating factor receptor (9). In addition, TNF-α decreases </span><span class=\"spark-nlp-display-entity-wrapper\" style=\"background-color: #5C122A\"><span class=\"spark-nlp-display-entity-name\">insulin </span><span class=\"spark-nlp-display-entity-type\">Protein</span></span><span class=\"spark-nlp-display-others\" style=\"background-color: white\"> sensitivity and increases lipolysis in adipocytes (10, 11). IL-6 also increase lipolysis and has been implicated in the hypertriglyceridemia and increased serum free fatty acid levels associated with obesity (12). Increased </span><span class=\"spark-nlp-display-entity-wrapper\" style=\"background-color: #5C122A\"><span class=\"spark-nlp-display-entity-name\">IL-6 </span><span class=\"spark-nlp-display-entity-type\">Protein</span></span><span class=\"spark-nlp-display-others\" style=\"background-color: white\"> signaling induces the expression of C-reactive protein and </span><span class=\"spark-nlp-display-entity-wrapper\" style=\"background-color: #5C122A\"><span class=\"spark-nlp-display-entity-name\">haptoglubin </span><span class=\"spark-nlp-display-entity-type\">Protein</span></span><span class=\"spark-nlp-display-others\" style=\"background-color: white\"> in liver (13). Recombinant </span><span class=\"spark-nlp-display-entity-wrapper\" style=\"background-color: #5C122A\"><span class=\"spark-nlp-display-entity-name\">IL-6 </span><span class=\"spark-nlp-display-entity-type\">Protein</span></span><span class=\"spark-nlp-display-others\" style=\"background-color: white\"> treatment increases atherosclerotic lesion size 5-fold (14). IL-6 also dose-dependently increases macrophage oxidative low-density lipoprotein (LDL) degradation and </span><span class=\"spark-nlp-display-entity-wrapper\" style=\"background-color: #5C122A\"><span class=\"spark-nlp-display-entity-name\">CD36 </span><span class=\"spark-nlp-display-entity-type\">Protein</span></span><span class=\"spark-nlp-display-others\" style=\"background-color: white\"> mRNA expression in vitro (15). These data clearly indicate that </span><span class=\"spark-nlp-display-entity-wrapper\" style=\"background-color: #5C122A\"><span class=\"spark-nlp-display-entity-name\">IL-6 </span><span class=\"spark-nlp-display-entity-type\">Protein</span></span><span class=\"spark-nlp-display-others\" style=\"background-color: white\"> and TNF-α are important pathogenetic factors associated with obesity, </span><span class=\"spark-nlp-display-entity-wrapper\" style=\"background-color: #5C122A\"><span class=\"spark-nlp-display-entity-name\">insulin </span><span class=\"spark-nlp-display-entity-type\">Protein</span></span><span class=\"spark-nlp-display-others\" style=\"background-color: white\"> resistance, and atherosclerosis. However, the factors regulating gene expression of these cytokines in macrophages have not been fully clarified.<br></span></div>"
            ],
            "text/plain": [
              "<IPython.core.display.HTML object>"
            ]
          },
          "metadata": {}
        }
      ]
    },
    {
      "cell_type": "code",
      "source": [
        ""
      ],
      "metadata": {
        "id": "LwDwx4_eFmJ5"
      },
      "execution_count": null,
      "outputs": []
    },
    {
      "cell_type": "code",
      "source": [
        ""
      ],
      "metadata": {
        "id": "8dAaJ5xqFmGj"
      },
      "execution_count": null,
      "outputs": []
    },
    {
      "cell_type": "code",
      "source": [
        ""
      ],
      "metadata": {
        "id": "-DlSMXfhFmC5"
      },
      "execution_count": null,
      "outputs": []
    },
    {
      "cell_type": "code",
      "source": [
        ""
      ],
      "metadata": {
        "id": "hlSQuHOwFl_n"
      },
      "execution_count": null,
      "outputs": []
    },
    {
      "cell_type": "code",
      "source": [
        ""
      ],
      "metadata": {
        "id": "t6nbjTP0Fl8D"
      },
      "execution_count": null,
      "outputs": []
    }
  ]
}